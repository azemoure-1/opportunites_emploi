{
 "cells": [
  {
   "cell_type": "markdown",
   "id": "aafb0995",
   "metadata": {},
   "source": [
    "## Analyse des opportunités d'emploi"
   ]
  },
  {
   "cell_type": "code",
   "execution_count": 179,
   "id": "0df5be51",
   "metadata": {},
   "outputs": [],
   "source": [
    "import pandas as pd\n",
    "import numpy as np"
   ]
  },
  {
   "cell_type": "code",
   "execution_count": 180,
   "id": "5f1f7332",
   "metadata": {},
   "outputs": [
    {
     "data": {
      "text/html": [
       "<div>\n",
       "<style scoped>\n",
       "    .dataframe tbody tr th:only-of-type {\n",
       "        vertical-align: middle;\n",
       "    }\n",
       "\n",
       "    .dataframe tbody tr th {\n",
       "        vertical-align: top;\n",
       "    }\n",
       "\n",
       "    .dataframe thead th {\n",
       "        text-align: right;\n",
       "    }\n",
       "</style>\n",
       "<table border=\"1\" class=\"dataframe\">\n",
       "  <thead>\n",
       "    <tr style=\"text-align: right;\">\n",
       "      <th></th>\n",
       "      <th>Company</th>\n",
       "      <th>Job Title</th>\n",
       "      <th>Location</th>\n",
       "      <th>Job Type</th>\n",
       "      <th>Experience level</th>\n",
       "      <th>Salary</th>\n",
       "      <th>Requirment of the company</th>\n",
       "      <th>Facilities</th>\n",
       "    </tr>\n",
       "  </thead>\n",
       "  <tbody>\n",
       "    <tr>\n",
       "      <th>0</th>\n",
       "      <td>SGS</td>\n",
       "      <td>Clinical Data Analyst</td>\n",
       "      <td>Richardson, TX, United States</td>\n",
       "      <td>Full Time</td>\n",
       "      <td>Entry-level</td>\n",
       "      <td>48K+ *</td>\n",
       "      <td>Computer Science,Data quality,Genetics,Mathema...</td>\n",
       "      <td>,,,,</td>\n",
       "    </tr>\n",
       "    <tr>\n",
       "      <th>1</th>\n",
       "      <td>Ocorian</td>\n",
       "      <td>AML/CFT &amp; Data Analyst</td>\n",
       "      <td>Ebène, Mauritius</td>\n",
       "      <td>Full Time</td>\n",
       "      <td>Entry-level</td>\n",
       "      <td>48K+ *</td>\n",
       "      <td>Agile,Data management,Finance,Security,,</td>\n",
       "      <td>,,,,</td>\n",
       "    </tr>\n",
       "    <tr>\n",
       "      <th>2</th>\n",
       "      <td>Cricut</td>\n",
       "      <td>Machine Learning Engineer</td>\n",
       "      <td>South Jordan, UT, United States</td>\n",
       "      <td>Full Time</td>\n",
       "      <td>NaN</td>\n",
       "      <td>90K+ *</td>\n",
       "      <td>Agile,Architecture,AWS,Computer Science,Comput...</td>\n",
       "      <td>Career development,,,,</td>\n",
       "    </tr>\n",
       "    <tr>\n",
       "      <th>3</th>\n",
       "      <td>Bosch Group</td>\n",
       "      <td>Application Developer &amp; Data Analyst</td>\n",
       "      <td>Nonantola, Italy</td>\n",
       "      <td>Full Time</td>\n",
       "      <td>Entry-level</td>\n",
       "      <td>48K+ *</td>\n",
       "      <td>Engineering,Industrial,Oracle,Power BI,R,R&amp;D</td>\n",
       "      <td>,,,,</td>\n",
       "    </tr>\n",
       "    <tr>\n",
       "      <th>4</th>\n",
       "      <td>Publicis Groupe</td>\n",
       "      <td>Data Engineer Full time (Public Sector) USA</td>\n",
       "      <td>Arlington, VA, United States</td>\n",
       "      <td>Full Time</td>\n",
       "      <td>Mid-level</td>\n",
       "      <td>108K+</td>\n",
       "      <td>AWS,Azure,Computer Science,Consulting,Dataflow...</td>\n",
       "      <td>Flex hours,Flex vacation,Parental leave,Unlimi...</td>\n",
       "    </tr>\n",
       "  </tbody>\n",
       "</table>\n",
       "</div>"
      ],
      "text/plain": [
       "           Company                                    Job Title  \\\n",
       "0              SGS                        Clinical Data Analyst   \n",
       "1          Ocorian                       AML/CFT & Data Analyst   \n",
       "2           Cricut                    Machine Learning Engineer   \n",
       "3      Bosch Group         Application Developer & Data Analyst   \n",
       "4  Publicis Groupe  Data Engineer Full time (Public Sector) USA   \n",
       "\n",
       "                          Location   Job Type Experience level   Salary  \\\n",
       "0    Richardson, TX, United States  Full Time      Entry-level   48K+ *   \n",
       "1                 Ebène, Mauritius  Full Time      Entry-level   48K+ *   \n",
       "2  South Jordan, UT, United States  Full Time              NaN   90K+ *   \n",
       "3                 Nonantola, Italy  Full Time      Entry-level   48K+ *   \n",
       "4     Arlington, VA, United States  Full Time        Mid-level    108K+   \n",
       "\n",
       "                          Requirment of the company   \\\n",
       "0  Computer Science,Data quality,Genetics,Mathema...   \n",
       "1           Agile,Data management,Finance,Security,,   \n",
       "2  Agile,Architecture,AWS,Computer Science,Comput...   \n",
       "3       Engineering,Industrial,Oracle,Power BI,R,R&D   \n",
       "4  AWS,Azure,Computer Science,Consulting,Dataflow...   \n",
       "\n",
       "                                          Facilities  \n",
       "0                                               ,,,,  \n",
       "1                                               ,,,,  \n",
       "2                             Career development,,,,  \n",
       "3                                               ,,,,  \n",
       "4  Flex hours,Flex vacation,Parental leave,Unlimi...  "
      ]
     },
     "execution_count": 180,
     "metadata": {},
     "output_type": "execute_result"
    }
   ],
   "source": [
    "df = pd.read_csv('job-64bd250cb0899621267166.csv', encoding='latin-1')\n",
    "df.head()"
   ]
  },
  {
   "cell_type": "markdown",
   "id": "a8dac28e",
   "metadata": {},
   "source": [
    "### Exploration"
   ]
  },
  {
   "cell_type": "code",
   "execution_count": 181,
   "id": "1d1c335c",
   "metadata": {},
   "outputs": [
    {
     "name": "stdout",
     "output_type": "stream",
     "text": [
      "<class 'pandas.core.frame.DataFrame'>\n",
      "RangeIndex: 3198 entries, 0 to 3197\n",
      "Data columns (total 8 columns):\n",
      " #   Column                      Non-Null Count  Dtype \n",
      "---  ------                      --------------  ----- \n",
      " 0   Company                     3197 non-null   object\n",
      " 1   Job Title                   3197 non-null   object\n",
      " 2   Location                    3197 non-null   object\n",
      " 3   Job Type                    3197 non-null   object\n",
      " 4   Experience level            2962 non-null   object\n",
      " 5   Salary                      3009 non-null   object\n",
      " 6   Requirment of the company   3198 non-null   object\n",
      " 7   Facilities                  3198 non-null   object\n",
      "dtypes: object(8)\n",
      "memory usage: 200.0+ KB\n"
     ]
    }
   ],
   "source": [
    "df.info()"
   ]
  },
  {
   "cell_type": "code",
   "execution_count": 182,
   "id": "d9f6a715",
   "metadata": {},
   "outputs": [
    {
     "data": {
      "text/plain": [
       "Publicis Groupe                   126\n",
       "Bosch Group                       102\n",
       "Amazon.com                         57\n",
       "Block                              54\n",
       "Visa                               44\n",
       "                                 ... \n",
       "PayFit                              1\n",
       "Pindrop                             1\n",
       "SMRS                                1\n",
       "Funding Societies                   1\n",
       "Galileo Financial Technologies      1\n",
       "Name: Company, Length: 1106, dtype: int64"
      ]
     },
     "execution_count": 182,
     "metadata": {},
     "output_type": "execute_result"
    }
   ],
   "source": [
    "df[\"Company\"].value_counts()"
   ]
  },
  {
   "cell_type": "code",
   "execution_count": 183,
   "id": "833456ab",
   "metadata": {},
   "outputs": [
    {
     "data": {
      "text/plain": [
       "Data Engineer                                                                    105\n",
       "Data Scientist                                                                    82\n",
       "Data Analyst                                                                      79\n",
       "Senior Data Engineer                                                              67\n",
       "Machine Learning Engineer                                                         47\n",
       "                                                                                ... \n",
       "Director | Master Data Management Delivery Lead| Data & Cloud - NV1 Clearance      1\n",
       "Senior Data Engineer -REMOTE                                                       1\n",
       "Associate Director/Director of Chemical Data Analytics                             1\n",
       "AI Engineer                                                                        1\n",
       "Data Scientist - New College Graduate                                              1\n",
       "Name: Job Title, Length: 2138, dtype: int64"
      ]
     },
     "execution_count": 183,
     "metadata": {},
     "output_type": "execute_result"
    }
   ],
   "source": [
    "df[\"Job Title\"].value_counts()"
   ]
  },
  {
   "cell_type": "code",
   "execution_count": 184,
   "id": "f288fa52",
   "metadata": {},
   "outputs": [
    {
     "data": {
      "text/plain": [
       "Bengaluru, India                             90\n",
       "Paris, France                                79\n",
       "New York City, United States                 69\n",
       "Remote                                       67\n",
       "London, United Kingdom                       64\n",
       "                                             ..\n",
       "Redwood City, USA & Vancouver, Canada & \n",
       "     1\n",
       "Remote Canada | Remote United States          1\n",
       "Toronto, ON                                   1\n",
       "Mountain View, CA, United States              1\n",
       "Biñan, Philippines                            1\n",
       "Name: Location, Length: 1117, dtype: int64"
      ]
     },
     "execution_count": 184,
     "metadata": {},
     "output_type": "execute_result"
    }
   ],
   "source": [
    "df[\"Location\"].value_counts()"
   ]
  },
  {
   "cell_type": "code",
   "execution_count": 185,
   "id": "12fc48fe",
   "metadata": {},
   "outputs": [
    {
     "data": {
      "text/plain": [
       "Full Time     3116\n",
       "Internship      75\n",
       "Part Time        6\n",
       "Name: Job Type, dtype: int64"
      ]
     },
     "execution_count": 185,
     "metadata": {},
     "output_type": "execute_result"
    }
   ],
   "source": [
    "df[\"Job Type\"].value_counts()"
   ]
  },
  {
   "cell_type": "code",
   "execution_count": 186,
   "id": "5e903adb",
   "metadata": {},
   "outputs": [
    {
     "data": {
      "text/plain": [
       "Senior-level       1876\n",
       "Entry-level         506\n",
       "Mid-level           452\n",
       "Executive-level     128\n",
       "Name: Experience level, dtype: int64"
      ]
     },
     "execution_count": 186,
     "metadata": {},
     "output_type": "execute_result"
    }
   ],
   "source": [
    "df[\"Experience level\"].value_counts()"
   ]
  },
  {
   "cell_type": "code",
   "execution_count": 187,
   "id": "1e13d779",
   "metadata": {},
   "outputs": [
    {
     "data": {
      "text/plain": [
       " 115K+ *    253\n",
       " 62K+ *     217\n",
       " 92K+ *     204\n",
       " 129K+ *    163\n",
       " 55K+ *     159\n",
       "           ... \n",
       "GBP 42K+      1\n",
       "EUR 80K+      1\n",
       " 214K+        1\n",
       " 63K+         1\n",
       " 117K+        1\n",
       "Name: Salary, Length: 218, dtype: int64"
      ]
     },
     "execution_count": 187,
     "metadata": {},
     "output_type": "execute_result"
    }
   ],
   "source": [
    "df[\"Salary\"].value_counts()"
   ]
  },
  {
   "cell_type": "code",
   "execution_count": 188,
   "id": "8cb07429",
   "metadata": {},
   "outputs": [
    {
     "data": {
      "text/plain": [
       "3006"
      ]
     },
     "execution_count": 188,
     "metadata": {},
     "output_type": "execute_result"
    }
   ],
   "source": [
    "count_with_plus = df['Salary'].str.contains(r'\\+').sum()\n",
    "count_with_plus"
   ]
  },
  {
   "cell_type": "code",
   "execution_count": 189,
   "id": "48e9aa12",
   "metadata": {},
   "outputs": [
    {
     "data": {
      "text/plain": [
       "2405"
      ]
     },
     "execution_count": 189,
     "metadata": {},
     "output_type": "execute_result"
    }
   ],
   "source": [
    "count_with_etoil = df['Salary'].str.contains(r'\\*').sum()\n",
    "count_with_etoil"
   ]
  },
  {
   "cell_type": "code",
   "execution_count": 190,
   "id": "302708ec",
   "metadata": {},
   "outputs": [
    {
     "data": {
      "text/plain": [
       ",,,,                                                                           542\n",
       "Career development,,,,                                                         245\n",
       "Career development,Startup environment,,,                                       95\n",
       "Startup environment,,,,                                                         74\n",
       "Career development,Equity,Flex hours,Flex vacation,Health care                  42\n",
       "                                                                              ... \n",
       "Career development,Competitive pay,Fertility benefits,Flex vacation,Gear         1\n",
       "Career development,Health care,Parental leave,Salary bonus,                      1\n",
       "Career development,Conferences,Flex hours,Flex vacation,Home office stipend      1\n",
       "Career development,Competitive pay,Equity,Parental leave,Team events             1\n",
       "401(k) matching,Flex hours,Flex vacation,Health care,Startup environment         1\n",
       "Name: Facilities, Length: 777, dtype: int64"
      ]
     },
     "execution_count": 190,
     "metadata": {},
     "output_type": "execute_result"
    }
   ],
   "source": [
    "df[\"Facilities\"].value_counts()"
   ]
  },
  {
   "cell_type": "markdown",
   "id": "ccd93824",
   "metadata": {},
   "source": [
    "### Nettoyage"
   ]
  },
  {
   "cell_type": "code",
   "execution_count": 192,
   "id": "7ea18ae8",
   "metadata": {},
   "outputs": [],
   "source": [
    "df = df.rename(columns={'Company': 'company'})\n",
    "df = df.rename(columns={'Job Title': 'job_title'})\n",
    "df = df.rename(columns={'Location': 'location'})\n",
    "df = df.rename(columns={'Job Type': 'job_type'})\n",
    "df = df.rename(columns={'Experience level': 'experience_level'})\n",
    "df = df.rename(columns={'Salary': 'salary'})\n",
    "df = df.rename(columns={'Requirment of the company': 'requirment_of_the_company'})\n",
    "df = df.rename(columns={'Facilities': 'facilities'})\n",
    "df = df.rename(columns={'Job Title Extracted': 'job_title_extracted'})\n",
    "df = df.rename(columns={'Country': 'country'})\n",
    "df = df.rename(columns={'Salary Category': 'salary_category'})\n",
    "df = df.rename(columns={'Remote': 'remote'})\n",
    "df = df.rename(columns={'Hybrid': 'hybrid'})\n",
    "df = df.rename(columns={'Local': 'local'})\n",
    "df = df.rename(columns={'Category': 'category'})"
   ]
  },
  {
   "cell_type": "code",
   "execution_count": 193,
   "id": "d50933b5",
   "metadata": {},
   "outputs": [
    {
     "data": {
      "text/plain": [
       "company                         1\n",
       "job_title                       1\n",
       "location                        1\n",
       "job_type                        1\n",
       "experience_level              236\n",
       "salary                        189\n",
       "Requirment of the company       0\n",
       "facilities                      0\n",
       "dtype: int64"
      ]
     },
     "execution_count": 193,
     "metadata": {},
     "output_type": "execute_result"
    }
   ],
   "source": [
    "df.isnull().sum()"
   ]
  },
  {
   "cell_type": "markdown",
   "id": "f682b695",
   "metadata": {},
   "source": [
    "#### Company"
   ]
  },
  {
   "cell_type": "code",
   "execution_count": 195,
   "id": "b6ff7ce5",
   "metadata": {},
   "outputs": [],
   "source": [
    "df['company'] = df['company'].str.lower()"
   ]
  },
  {
   "cell_type": "code",
   "execution_count": 197,
   "id": "391f8dc8",
   "metadata": {},
   "outputs": [],
   "source": [
    "df.dropna(subset=[\"company\"], inplace = True)"
   ]
  },
  {
   "cell_type": "code",
   "execution_count": 198,
   "id": "09846fe5",
   "metadata": {},
   "outputs": [],
   "source": [
    "df['company'] = df['company'].str.strip()"
   ]
  },
  {
   "cell_type": "code",
   "execution_count": 199,
   "id": "8d27aa3d",
   "metadata": {},
   "outputs": [
    {
     "data": {
      "text/plain": [
       "0                   sgs\n",
       "1               ocorian\n",
       "2                cricut\n",
       "3           bosch group\n",
       "4       publicis groupe\n",
       "             ...       \n",
       "3193    western digital\n",
       "3194           experian\n",
       "3195     locus robotics\n",
       "3196      atb financial\n",
       "3197            shippeo\n",
       "Name: company, Length: 3197, dtype: object"
      ]
     },
     "execution_count": 199,
     "metadata": {},
     "output_type": "execute_result"
    }
   ],
   "source": [
    "df['company']"
   ]
  },
  {
   "cell_type": "markdown",
   "id": "bbcc1e7d",
   "metadata": {},
   "source": [
    "#### Job Title"
   ]
  },
  {
   "cell_type": "code",
   "execution_count": 200,
   "id": "dc3201d1",
   "metadata": {},
   "outputs": [],
   "source": [
    "df['job_title'] = df['job_title'].str.lower()"
   ]
  },
  {
   "cell_type": "code",
   "execution_count": 201,
   "id": "6ea687bc",
   "metadata": {},
   "outputs": [],
   "source": [
    "df['job_title'] = df['job_title'].str.strip()"
   ]
  },
  {
   "cell_type": "code",
   "execution_count": 202,
   "id": "f7ffa4b5",
   "metadata": {},
   "outputs": [],
   "source": [
    "import langid\n",
    "from mtranslate import translate\n",
    "\n",
    "# Function to translate text to English using mtranslate\n",
    "def translate_text(text):\n",
    "    target_lang = 'en'\n",
    "    translation = translate(text, to_language=target_lang)\n",
    "    return translation\n",
    "\n",
    "df['job_title'] = df['job_title'].astype(str)\n",
    "\n",
    "df['job_title'] = df['job_title'].apply(lambda x: translate_text(x) if langid.classify(x)[0] != 'en' else x)"
   ]
  },
  {
   "cell_type": "code",
   "execution_count": 203,
   "id": "9679d93c",
   "metadata": {},
   "outputs": [
    {
     "data": {
      "text/plain": [
       "0                             clinical data analyst\n",
       "1                            aml/cft & data analyst\n",
       "2                         machine learning engineer\n",
       "3              application developer & data analyst\n",
       "4       data engineer full time (public sector) usa\n",
       "                           ...                     \n",
       "3193          data scientist - new college graduate\n",
       "3194                             cloud data analyst\n",
       "3195                     robotics engineer, sensors\n",
       "3196                                 data scientist\n",
       "3197                           senior data engineer\n",
       "Name: job_title, Length: 3197, dtype: object"
      ]
     },
     "execution_count": 203,
     "metadata": {},
     "output_type": "execute_result"
    }
   ],
   "source": [
    "df['job_title']"
   ]
  },
  {
   "cell_type": "code",
   "execution_count": 205,
   "id": "e646ba5a",
   "metadata": {},
   "outputs": [],
   "source": [
    "from fuzzywuzzy import fuzz, process\n",
    "\n",
    "# Assuming you have already imported pandas and have your DataFrame stored in 'df'\n",
    "\n",
    "# Define a function to extract job titles using fuzzy matching against the updated possible_job_titles list\n",
    "def extract_job_title(title):\n",
    "    # List of fixed possible job titles\n",
    "    possible_job_titles = [\n",
    "        \"data scientist\",\n",
    "        \"data analyst\",\n",
    "        \"data engineer\",\n",
    "        \"data architect\",\n",
    "        \"data storyteller\",\n",
    "        \"machine learning scientist\",\n",
    "        \"machine learning engineer\",\n",
    "        \"business intelligence developer\",\n",
    "        \"database administrator\",\n",
    "        \"technology specialized roles\",\n",
    "        \"business intelligence analyst\",\n",
    "        \"data security analyst\",\n",
    "        \"database manager\",\n",
    "        \"database developer\",\n",
    "        \"data modeler\",\n",
    "        \"big data engineer\",\n",
    "        \"robotic scientist\",\n",
    "        \"ai product manager\",\n",
    "        \"ai consultant\",\n",
    "        \"robotics engineer\",\n",
    "        \"nlp engineer\",\n",
    "        \"research assistant\",\n",
    "        \"deep learning engineer\",\n",
    "        \"data warehouse specialist\",\n",
    "        \"data quality analyst\",\n",
    "        \"data operations manager\",\n",
    "        \"data visualization specialist\",\n",
    "        \"data governance analyst\",\n",
    "        \"data product manager\",\n",
    "        \"data integration specialist\",\n",
    "        \"data mining specialist\",\n",
    "        \"data analytics manager\",\n",
    "        \"data insights analyst\",\n",
    "        \"data privacy officer\",\n",
    "        \"data strategy consultant\",\n",
    "        \"data migration specialist\",\n",
    "        \"data governance manager\",\n",
    "        \"data science manager\",\n",
    "        \"software engineering manager\",\n",
    "        \"mobile applications developer\",\n",
    "        \"information systems security manager\",\n",
    "        \"product manager\",\n",
    "        \"artificial intelligence (ai) engineer\",\n",
    "        \"full-stack developer\",\n",
    "        \"cloud architect\",\n",
    "        \"devops engineer\",\n",
    "        \"blockchain engineer\",\n",
    "        \"software architect\",\n",
    "        \"internet of things (iot) solutions architect\",\n",
    "        \"bi developer\",\n",
    "    ]\n",
    "\n",
    "    # Use process.extractOne to get the best matching job title from the list of possibilities\n",
    "    best_match, confidence = process.extractOne(title.lower(), possible_job_titles)\n",
    "    return best_match if confidence >= 70 else \"Other\"  # If confidence is below 70, return \"Other\"\n",
    "\n",
    "# Create a new column 'Job Title Extracted' in the DataFrame using the apply function\n",
    "df['job_title_extracted'] = df['job_title'].apply(extract_job_title)"
   ]
  },
  {
   "cell_type": "markdown",
   "id": "8da0910d",
   "metadata": {},
   "source": [
    "#### Location"
   ]
  },
  {
   "cell_type": "code",
   "execution_count": 207,
   "id": "cc544b77",
   "metadata": {},
   "outputs": [],
   "source": [
    "df['location'] = df['location'].str.lower()"
   ]
  },
  {
   "cell_type": "code",
   "execution_count": 208,
   "id": "2fc664d9",
   "metadata": {},
   "outputs": [],
   "source": [
    "df['location'] = df['location'].str.strip()"
   ]
  },
  {
   "cell_type": "code",
   "execution_count": 209,
   "id": "0968b3ee",
   "metadata": {
    "scrolled": true
   },
   "outputs": [
    {
     "data": {
      "text/plain": [
       "0         richardson, tx, united states\n",
       "1                      ebène, mauritius\n",
       "2       south jordan, ut, united states\n",
       "3                      nonantola, italy\n",
       "4          arlington, va, united states\n",
       "                     ...               \n",
       "3193                 biñan, philippines\n",
       "3194                heredia, costa rica\n",
       "3195      wilmington, ma, united states\n",
       "3196          edmonton, alberta, canada\n",
       "3197                      paris, france\n",
       "Name: location, Length: 3197, dtype: object"
      ]
     },
     "execution_count": 209,
     "metadata": {},
     "output_type": "execute_result"
    }
   ],
   "source": [
    "df['location']"
   ]
  },
  {
   "cell_type": "markdown",
   "id": "07d64f3d",
   "metadata": {},
   "source": [
    "##### Country"
   ]
  },
  {
   "cell_type": "code",
   "execution_count": 210,
   "id": "6ea0f542",
   "metadata": {
    "scrolled": true
   },
   "outputs": [
    {
     "data": {
      "text/plain": [
       "0             United States\n",
       "1       Mauritius / Maurice\n",
       "2             United States\n",
       "3                    Italia\n",
       "4             United States\n",
       "               ...         \n",
       "3193            Philippines\n",
       "3194             Costa Rica\n",
       "3195          United States\n",
       "3196                 Canada\n",
       "3197                 France\n",
       "Name: country, Length: 3197, dtype: object"
      ]
     },
     "execution_count": 210,
     "metadata": {},
     "output_type": "execute_result"
    }
   ],
   "source": [
    "from geopy.geocoders import Nominatim\n",
    "from geopy.exc import GeocoderTimedOut\n",
    "\n",
    "def batch_geocode(locations):\n",
    "    geolocator = Nominatim(user_agent=\"myGeocoder\")\n",
    "    results = []\n",
    "    \n",
    "    for location in locations:\n",
    "        try:\n",
    "            location_info = geolocator.geocode(location, timeout=10)\n",
    "            if location_info:\n",
    "                country = location_info.address.split(\",\")[-1].strip()\n",
    "                results.append(country)\n",
    "            else:\n",
    "                results.append(None)\n",
    "        except GeocoderTimedOut:\n",
    "            results.append(None)\n",
    "    \n",
    "    return results\n",
    "\n",
    "# Replace df['Location'] with your actual 'Location' column\n",
    "locations = df['location'].tolist()\n",
    "df['country'] = batch_geocode(locations)\n",
    "df['country']"
   ]
  },
  {
   "cell_type": "code",
   "execution_count": 212,
   "id": "8b5aacb5",
   "metadata": {},
   "outputs": [
    {
     "data": {
      "text/html": [
       "<div>\n",
       "<style scoped>\n",
       "    .dataframe tbody tr th:only-of-type {\n",
       "        vertical-align: middle;\n",
       "    }\n",
       "\n",
       "    .dataframe tbody tr th {\n",
       "        vertical-align: top;\n",
       "    }\n",
       "\n",
       "    .dataframe thead th {\n",
       "        text-align: right;\n",
       "    }\n",
       "</style>\n",
       "<table border=\"1\" class=\"dataframe\">\n",
       "  <thead>\n",
       "    <tr style=\"text-align: right;\">\n",
       "      <th></th>\n",
       "      <th>company</th>\n",
       "      <th>job_title</th>\n",
       "      <th>location</th>\n",
       "      <th>job_type</th>\n",
       "      <th>experience_level</th>\n",
       "      <th>salary</th>\n",
       "      <th>Requirment of the company</th>\n",
       "      <th>facilities</th>\n",
       "      <th>job_title_extracted</th>\n",
       "      <th>country</th>\n",
       "    </tr>\n",
       "  </thead>\n",
       "  <tbody>\n",
       "    <tr>\n",
       "      <th>19</th>\n",
       "      <td>deepl</td>\n",
       "      <td>data scientist | insights (f/m/d) - ger, uk, n...</td>\n",
       "      <td>remote job</td>\n",
       "      <td>Full Time</td>\n",
       "      <td>Senior-level</td>\n",
       "      <td>129K+ *</td>\n",
       "      <td>Agile,Data visualization,Economics,Machine Lea...</td>\n",
       "      <td>Career development,,,,</td>\n",
       "      <td>data scientist</td>\n",
       "      <td>None</td>\n",
       "    </tr>\n",
       "    <tr>\n",
       "      <th>24</th>\n",
       "      <td>ex2 outcoding</td>\n",
       "      <td>data engineer scientist</td>\n",
       "      <td>remote worldwide</td>\n",
       "      <td>Full Time</td>\n",
       "      <td>Mid-level</td>\n",
       "      <td>73K+ *</td>\n",
       "      <td>Computer Science,Data Mining,Engineering,Pytho...</td>\n",
       "      <td>,,,,</td>\n",
       "      <td>data engineer</td>\n",
       "      <td>None</td>\n",
       "    </tr>\n",
       "    <tr>\n",
       "      <th>29</th>\n",
       "      <td>quintoandar</td>\n",
       "      <td>quintoandar - senior data analyst</td>\n",
       "      <td>são paulo, state of são paulo, brazil</td>\n",
       "      <td>Full Time</td>\n",
       "      <td>Senior-level</td>\n",
       "      <td>92K+ *</td>\n",
       "      <td>Clustering,Looker,Python,SQL,Tableau,</td>\n",
       "      <td>Fitness / gym,,,,</td>\n",
       "      <td>data analyst</td>\n",
       "      <td>None</td>\n",
       "    </tr>\n",
       "    <tr>\n",
       "      <th>30</th>\n",
       "      <td>neo cybernetica</td>\n",
       "      <td>ml research engineer</td>\n",
       "      <td>poland or eastern europe remote</td>\n",
       "      <td>Full Time</td>\n",
       "      <td>Senior-level</td>\n",
       "      <td>105K+ *</td>\n",
       "      <td>Cybernetics,DataRobot,Engineering,Keras,Machin...</td>\n",
       "      <td>Career development,Flex hours,Health care,Star...</td>\n",
       "      <td>data engineer</td>\n",
       "      <td>None</td>\n",
       "    </tr>\n",
       "    <tr>\n",
       "      <th>32</th>\n",
       "      <td>podium</td>\n",
       "      <td>senior data engineer</td>\n",
       "      <td>lehi, utah, open to remote</td>\n",
       "      <td>Full Time</td>\n",
       "      <td>Senior-level</td>\n",
       "      <td>115K+ *</td>\n",
       "      <td>APIs,Big Data,Computer Science,Data analysis,D...</td>\n",
       "      <td>,,,,</td>\n",
       "      <td>data engineer</td>\n",
       "      <td>None</td>\n",
       "    </tr>\n",
       "    <tr>\n",
       "      <th>...</th>\n",
       "      <td>...</td>\n",
       "      <td>...</td>\n",
       "      <td>...</td>\n",
       "      <td>...</td>\n",
       "      <td>...</td>\n",
       "      <td>...</td>\n",
       "      <td>...</td>\n",
       "      <td>...</td>\n",
       "      <td>...</td>\n",
       "      <td>...</td>\n",
       "    </tr>\n",
       "    <tr>\n",
       "      <th>3161</th>\n",
       "      <td>equipmentshare</td>\n",
       "      <td>bi data analyst</td>\n",
       "      <td>remote: kansas city; denver; chicago; phoenix;...</td>\n",
       "      <td>Full Time</td>\n",
       "      <td>Senior-level</td>\n",
       "      <td>36K+ *</td>\n",
       "      <td>Business Analytics,Business Intelligence,Finan...</td>\n",
       "      <td>401(k) matching,Career development,Competitive...</td>\n",
       "      <td>data analyst</td>\n",
       "      <td>None</td>\n",
       "    </tr>\n",
       "    <tr>\n",
       "      <th>3176</th>\n",
       "      <td>itech media</td>\n",
       "      <td>data analytics engineer</td>\n",
       "      <td>warsaw remote</td>\n",
       "      <td>Full Time</td>\n",
       "      <td>Entry-level</td>\n",
       "      <td>30K+ *</td>\n",
       "      <td>Airflow,Data Analytics,Engineering,Finance,Kaf...</td>\n",
       "      <td>Career development,Flex hours,Flex vacation,He...</td>\n",
       "      <td>data scientist</td>\n",
       "      <td>None</td>\n",
       "    </tr>\n",
       "    <tr>\n",
       "      <th>3178</th>\n",
       "      <td>galileo financial technologies</td>\n",
       "      <td>staff etl developer</td>\n",
       "      <td>ut - remote; ut - cottonwood heights</td>\n",
       "      <td>Full Time</td>\n",
       "      <td>Senior-level</td>\n",
       "      <td>63K+ *</td>\n",
       "      <td>Computer Science,Data pipelines,Data warehouse...</td>\n",
       "      <td>Flex hours,Health care,Insurance,,</td>\n",
       "      <td>business intelligence developer</td>\n",
       "      <td>None</td>\n",
       "    </tr>\n",
       "    <tr>\n",
       "      <th>3181</th>\n",
       "      <td>c3.ai</td>\n",
       "      <td>data scientist / senior data scientist (federal)</td>\n",
       "      <td>tysons, va; dayton, oh; redwood city, ca</td>\n",
       "      <td>Full Time</td>\n",
       "      <td>Senior-level</td>\n",
       "      <td>123K+</td>\n",
       "      <td>Architecture,Classification,Computer Science,C...</td>\n",
       "      <td>Career development,Competitive pay,Equity,,</td>\n",
       "      <td>data scientist</td>\n",
       "      <td>None</td>\n",
       "    </tr>\n",
       "    <tr>\n",
       "      <th>3192</th>\n",
       "      <td>doordash</td>\n",
       "      <td>senior software engineer, machine learning - a...</td>\n",
       "      <td>sunnyvale, ca; san francisco, ca; new york</td>\n",
       "      <td>Full Time</td>\n",
       "      <td>Senior-level</td>\n",
       "      <td>176K+</td>\n",
       "      <td>Computer Science,Data analysis,Engineering,Exc...</td>\n",
       "      <td>401(k) matching,Career development,Equity,Insu...</td>\n",
       "      <td>data engineer</td>\n",
       "      <td>None</td>\n",
       "    </tr>\n",
       "  </tbody>\n",
       "</table>\n",
       "<p>372 rows × 10 columns</p>\n",
       "</div>"
      ],
      "text/plain": [
       "                             company  \\\n",
       "19                             deepl   \n",
       "24                     ex2 outcoding   \n",
       "29                       quintoandar   \n",
       "30                   neo cybernetica   \n",
       "32                            podium   \n",
       "...                              ...   \n",
       "3161                  equipmentshare   \n",
       "3176                     itech media   \n",
       "3178  galileo financial technologies   \n",
       "3181                           c3.ai   \n",
       "3192                        doordash   \n",
       "\n",
       "                                              job_title  \\\n",
       "19    data scientist | insights (f/m/d) - ger, uk, n...   \n",
       "24                              data engineer scientist   \n",
       "29                    quintoandar - senior data analyst   \n",
       "30                                 ml research engineer   \n",
       "32                                 senior data engineer   \n",
       "...                                                 ...   \n",
       "3161                                    bi data analyst   \n",
       "3176                            data analytics engineer   \n",
       "3178                                staff etl developer   \n",
       "3181   data scientist / senior data scientist (federal)   \n",
       "3192  senior software engineer, machine learning - a...   \n",
       "\n",
       "                                               location   job_type  \\\n",
       "19                                           remote job  Full Time   \n",
       "24                                     remote worldwide  Full Time   \n",
       "29                são paulo, state of são paulo, brazil  Full Time   \n",
       "30                      poland or eastern europe remote  Full Time   \n",
       "32                           lehi, utah, open to remote  Full Time   \n",
       "...                                                 ...        ...   \n",
       "3161  remote: kansas city; denver; chicago; phoenix;...  Full Time   \n",
       "3176                                      warsaw remote  Full Time   \n",
       "3178               ut - remote; ut - cottonwood heights  Full Time   \n",
       "3181           tysons, va; dayton, oh; redwood city, ca  Full Time   \n",
       "3192         sunnyvale, ca; san francisco, ca; new york  Full Time   \n",
       "\n",
       "     experience_level    salary  \\\n",
       "19       Senior-level   129K+ *   \n",
       "24          Mid-level    73K+ *   \n",
       "29       Senior-level    92K+ *   \n",
       "30       Senior-level   105K+ *   \n",
       "32       Senior-level   115K+ *   \n",
       "...               ...       ...   \n",
       "3161     Senior-level    36K+ *   \n",
       "3176      Entry-level    30K+ *   \n",
       "3178     Senior-level    63K+ *   \n",
       "3181     Senior-level     123K+   \n",
       "3192     Senior-level     176K+   \n",
       "\n",
       "                             Requirment of the company   \\\n",
       "19    Agile,Data visualization,Economics,Machine Lea...   \n",
       "24    Computer Science,Data Mining,Engineering,Pytho...   \n",
       "29                Clustering,Looker,Python,SQL,Tableau,   \n",
       "30    Cybernetics,DataRobot,Engineering,Keras,Machin...   \n",
       "32    APIs,Big Data,Computer Science,Data analysis,D...   \n",
       "...                                                 ...   \n",
       "3161  Business Analytics,Business Intelligence,Finan...   \n",
       "3176  Airflow,Data Analytics,Engineering,Finance,Kaf...   \n",
       "3178  Computer Science,Data pipelines,Data warehouse...   \n",
       "3181  Architecture,Classification,Computer Science,C...   \n",
       "3192  Computer Science,Data analysis,Engineering,Exc...   \n",
       "\n",
       "                                             facilities  \\\n",
       "19                               Career development,,,,   \n",
       "24                                                 ,,,,   \n",
       "29                                    Fitness / gym,,,,   \n",
       "30    Career development,Flex hours,Health care,Star...   \n",
       "32                                                 ,,,,   \n",
       "...                                                 ...   \n",
       "3161  401(k) matching,Career development,Competitive...   \n",
       "3176  Career development,Flex hours,Flex vacation,He...   \n",
       "3178                 Flex hours,Health care,Insurance,,   \n",
       "3181        Career development,Competitive pay,Equity,,   \n",
       "3192  401(k) matching,Career development,Equity,Insu...   \n",
       "\n",
       "                  job_title_extracted country  \n",
       "19                     data scientist    None  \n",
       "24                      data engineer    None  \n",
       "29                       data analyst    None  \n",
       "30                      data engineer    None  \n",
       "32                      data engineer    None  \n",
       "...                               ...     ...  \n",
       "3161                     data analyst    None  \n",
       "3176                   data scientist    None  \n",
       "3178  business intelligence developer    None  \n",
       "3181                   data scientist    None  \n",
       "3192                    data engineer    None  \n",
       "\n",
       "[372 rows x 10 columns]"
      ]
     },
     "execution_count": 212,
     "metadata": {},
     "output_type": "execute_result"
    }
   ],
   "source": [
    "filtered_df = df[pd.isnull(df['country'])]\n",
    "filtered_df"
   ]
  },
  {
   "cell_type": "code",
   "execution_count": 213,
   "id": "cfa752dc",
   "metadata": {},
   "outputs": [
    {
     "name": "stdout",
     "output_type": "stream",
     "text": [
      "19                                             remote job\n",
      "24                                       remote worldwide\n",
      "29                                                 brazil\n",
      "30                        poland or eastern europe remote\n",
      "32                                         open to remote\n",
      "                              ...                        \n",
      "3161    remote: kansas city; denver; chicago; phoenix;...\n",
      "3176                                        warsaw remote\n",
      "3178                 ut - remote; ut - cottonwood heights\n",
      "3181                                                   ca\n",
      "3192                                         ca; new york\n",
      "Name: country, Length: 372, dtype: object\n"
     ]
    },
    {
     "name": "stderr",
     "output_type": "stream",
     "text": [
      "C:\\Users\\Youcode\\AppData\\Local\\Temp\\ipykernel_14032\\2111919765.py:1: SettingWithCopyWarning:\n",
      "\n",
      "\n",
      "A value is trying to be set on a copy of a slice from a DataFrame.\n",
      "Try using .loc[row_indexer,col_indexer] = value instead\n",
      "\n",
      "See the caveats in the documentation: https://pandas.pydata.org/pandas-docs/stable/user_guide/indexing.html#returning-a-view-versus-a-copy\n",
      "\n"
     ]
    }
   ],
   "source": [
    "filtered_df['country'] = filtered_df['location'].str.split(',').str[-1].str.strip()\n",
    "print(filtered_df['country'])"
   ]
  },
  {
   "cell_type": "code",
   "execution_count": 214,
   "id": "f96bfc04",
   "metadata": {},
   "outputs": [
    {
     "data": {
      "text/plain": [
       "array(['remote job', 'remote worldwide', 'brazil',\n",
       "       'poland or eastern europe remote', 'open to remote',\n",
       "       'argentina - remote', 'in - hybrid', 'belgium - remote',\n",
       "       'london or remote (uk)', 'united states - remote',\n",
       "       'united arab emirates - remote', 'germany - remote',\n",
       "       'south africa - remote', 'canada | remote-can',\n",
       "       'remote (us & can)', 'dc', 'united kingdom', '',\n",
       "       'london/manchester (hybrid)', 'jordan', 'thailand',\n",
       "       'spain - remote', 'dc metro area', 'france - remote', 'ma',\n",
       "       'gibraltar', 'ny; san', 'remote', 'vietnam - remote',\n",
       "       'united kingdom - remote', 'romania', 'deu', 'il or remote',\n",
       "       'bulgaria', 'or remote', 'remote-asia pacific', 'co or',\n",
       "       'paris or remote from france', 'new york city or remote', 'ca',\n",
       "       'united states', 'philippines', 'remote- u.s. based',\n",
       "       'remote or mississauga', 'pakistan - remote', 'bc (remote)',\n",
       "       'malta - remote', 'netherlands - remote', 'canada',\n",
       "       'india - remote', 'san francisco or remote',\n",
       "       'ca - san francisco hq; wa -', 'italy', 'toronto (remote)',\n",
       "       'raleigh/durham | remote', 'united', 'latam (remote)',\n",
       "       'flexible within the us', 'london', 'chile - remote', 'austria',\n",
       "       'mexico - remote', 'north macedonia', 'ca / new york city',\n",
       "       'poland', 'canada - remote', 'tx (local remote)',\n",
       "       'philippines - remote', 'ca; us remote', 'remote available',\n",
       "       'spain', 'new york city | remote-usa | remote-can', 'dallas',\n",
       "       'hungary', 'finland - remote', 'chennai (hybrid)',\n",
       "       'remote in the uk', 'brazil - remote', 'mx - remote', 'ca; remote',\n",
       "       'canada &', 'remote canada | remote united states', 'remote (usa)',\n",
       "       'romania - remote', 'remote - west coast - us/canada',\n",
       "       'home based - emea', 'nj', 'united states / los',\n",
       "       'virtual location - washington', 'israel',\n",
       "       'new york / london / remote', 'london or remote (u.k)',\n",
       "       'remote in philippines',\n",
       "       'remote; chicago; dallas; phoenix; denver; atlanta',\n",
       "       'ukraine - remote', 'ca - remote', 'wa; new york', 'co - hybrid',\n",
       "       'san francisco (or remote)', 'stockholm', 'portugal - remote',\n",
       "       'rou', 'ca; los', 'co (remote)', 'portugal (remote / hybrid)',\n",
       "       'slovenia', 'wa - remote', 'usa;', 'us- remote / canada',\n",
       "       'us -remote/ canada', 'london and your home!', 'state of rio de',\n",
       "       'greater boston / new hampshire area', 'argentina remote',\n",
       "       'slovakia (slovak republic)', 'lithuania - remote', 'us / canada',\n",
       "       'united states & canada - remote',\n",
       "       'remote in the united states or canada',\n",
       "       'anywhere in the u.s. (remote)', 'il; united states', 'ga',\n",
       "       'poland (remote)', 'remote portugal', 'uk or europe remote',\n",
       "       'in-remote', 'remote poland', 'poland remote', 'rspl hq - pune',\n",
       "       'co - remote', 'usa', 'remote or chicago',\n",
       "       'california; new york city;', 'ca or new york city', 'portugal.',\n",
       "       'canada east', 'poland - remote', 'peru - remote', 'thuiswerk',\n",
       "       'ga - remote', 'bangkok (central world office)',\n",
       "       'contiguous united states',\n",
       "       'remote: kansas city; denver; chicago; phoenix; columbia',\n",
       "       'es - remote', 'tx - remote', 'pa - remote', 'gb - remote',\n",
       "       'anywhere in latam', 'gbr', 'bengaluru/ chennai/ pune',\n",
       "       'remote north america', 'london or remote uk', 'denmark; rio de',\n",
       "       'uruguay - remote', 'ca - san francisco hq; ca -', 'us', 'or',\n",
       "       'wa', 'wa;', 'az; new york city; united states', 'kansas',\n",
       "       'georgia - remote', 'remote sweden',\n",
       "       'uk - (remote / london office)', 'minneapolis or remote us',\n",
       "       'remote (global)', 'us-md-lanham//us-remote',\n",
       "       'san francisco bay area or remote', 'india', 'ca (remote)',\n",
       "       'riga or tallinn', 'amsterdam', 'anywhere in the us',\n",
       "       'europe (remote)', 'new york city or boston', 'seattle',\n",
       "       'new york city/remote', 'analytics engineer - mexico',\n",
       "       'remote - ireland', 'warsaw remote',\n",
       "       'ut - remote; ut - cottonwood heights', 'ca; new york'],\n",
       "      dtype=object)"
      ]
     },
     "execution_count": 214,
     "metadata": {},
     "output_type": "execute_result"
    }
   ],
   "source": [
    "filtered_df['country'].unique()"
   ]
  },
  {
   "cell_type": "code",
   "execution_count": 215,
   "id": "d220a762",
   "metadata": {},
   "outputs": [
    {
     "name": "stderr",
     "output_type": "stream",
     "text": [
      "C:\\Users\\Youcode\\AppData\\Local\\Temp\\ipykernel_14032\\1496406308.py:23: SettingWithCopyWarning:\n",
      "\n",
      "\n",
      "A value is trying to be set on a copy of a slice from a DataFrame.\n",
      "Try using .loc[row_indexer,col_indexer] = value instead\n",
      "\n",
      "See the caveats in the documentation: https://pandas.pydata.org/pandas-docs/stable/user_guide/indexing.html#returning-a-view-versus-a-copy\n",
      "\n"
     ]
    },
    {
     "data": {
      "text/plain": [
       "19               None\n",
       "24               None\n",
       "29             Brasil\n",
       "30               None\n",
       "32               None\n",
       "            ...      \n",
       "3161             None\n",
       "3176             None\n",
       "3178             None\n",
       "3181           Canada\n",
       "3192    United States\n",
       "Name: country, Length: 372, dtype: object"
      ]
     },
     "execution_count": 215,
     "metadata": {},
     "output_type": "execute_result"
    }
   ],
   "source": [
    "from geopy.geocoders import Nominatim\n",
    "from geopy.exc import GeocoderTimedOut\n",
    "\n",
    "def batch_geocode(locations):\n",
    "    geolocator = Nominatim(user_agent=\"myGeocoder\")\n",
    "    results = []\n",
    "    \n",
    "    for location in locations:\n",
    "        try:\n",
    "            location_info = geolocator.geocode(location, timeout=10)\n",
    "            if location_info:\n",
    "                country = location_info.address.split(\",\")[-1].strip()\n",
    "                results.append(country)\n",
    "            else:\n",
    "                results.append(None)\n",
    "        except GeocoderTimedOut:\n",
    "            results.append(None)\n",
    "    \n",
    "    return results\n",
    "\n",
    "# Replace df['Location'] with your actual 'Location' column\n",
    "locations = filtered_df['country'].tolist()\n",
    "filtered_df['country'] = batch_geocode(locations)\n",
    "filtered_df['country']"
   ]
  },
  {
   "cell_type": "code",
   "execution_count": 216,
   "id": "8ed99a85",
   "metadata": {},
   "outputs": [
    {
     "data": {
      "text/plain": [
       "United States                  84\n",
       "Canada                         31\n",
       "United Kingdom                 27\n",
       "India                          15\n",
       "Brasil                          8\n",
       "España                          7\n",
       "الإمارات العربية المتحدة        6\n",
       "Polska                          5\n",
       "Philippines                     4\n",
       "Magyarország                    3\n",
       "Österreich                      3\n",
       "România                         3\n",
       "Maroc / ⵍⵎⵖⵔⵉⴱ / المغرب         2\n",
       "Nederland                       2\n",
       "ישראל                           2\n",
       "Suomi / Finland                 2\n",
       "België / Belgique / Belgien     2\n",
       "Deutschland                     2\n",
       "Северна Македонија              2\n",
       "Colombia                        2\n",
       "Việt Nam                        2\n",
       "Italia                          1\n",
       "България                        1\n",
       "Gibraltar                       1\n",
       "الأردن                          1\n",
       "ประเทศไทย                       1\n",
       "Sverige                         1\n",
       "Venezuela                       1\n",
       "Slovenija                       1\n",
       "Slovensko                       1\n",
       "Gabon                           1\n",
       "Portugal                        1\n",
       "Name: country, dtype: int64"
      ]
     },
     "execution_count": 216,
     "metadata": {},
     "output_type": "execute_result"
    }
   ],
   "source": [
    "filtered_df['country'].value_counts()"
   ]
  },
  {
   "cell_type": "code",
   "execution_count": 217,
   "id": "afb8762b",
   "metadata": {},
   "outputs": [],
   "source": [
    "df['country'] = df['country'].fillna(filtered_df['country'])"
   ]
  },
  {
   "cell_type": "code",
   "execution_count": 218,
   "id": "535c23e0",
   "metadata": {},
   "outputs": [],
   "source": [
    "def translate_text(text):\n",
    "    target_lang = 'en'\n",
    "    translation = translate(text, to_language=target_lang)\n",
    "    return translation\n",
    "\n",
    "df['country'] = df['country'].astype(str)\n",
    "\n",
    "df['country'] = df['country'].apply(lambda x: translate_text(x) if langid.classify(x)[0] != 'en' else x)"
   ]
  },
  {
   "cell_type": "markdown",
   "id": "97dfd732",
   "metadata": {},
   "source": [
    "#### Job Type"
   ]
  },
  {
   "cell_type": "code",
   "execution_count": 219,
   "id": "286a23a7",
   "metadata": {},
   "outputs": [],
   "source": [
    "df['job_type'] = df['job_type'].str.lower()"
   ]
  },
  {
   "cell_type": "markdown",
   "id": "ccc730f3",
   "metadata": {},
   "source": [
    "#### Experience level"
   ]
  },
  {
   "cell_type": "code",
   "execution_count": 220,
   "id": "0a9a218e",
   "metadata": {},
   "outputs": [],
   "source": [
    "df['experience_level'] = df['experience_level'].str.lower()"
   ]
  },
  {
   "cell_type": "code",
   "execution_count": 221,
   "id": "385f3bb4",
   "metadata": {},
   "outputs": [
    {
     "data": {
      "text/plain": [
       "0        entry-level\n",
       "1        entry-level\n",
       "2                NaN\n",
       "3        entry-level\n",
       "4          mid-level\n",
       "            ...     \n",
       "3193     entry-level\n",
       "3194    senior-level\n",
       "3195    senior-level\n",
       "3196     entry-level\n",
       "3197    senior-level\n",
       "Name: experience_level, Length: 3197, dtype: object"
      ]
     },
     "execution_count": 221,
     "metadata": {},
     "output_type": "execute_result"
    }
   ],
   "source": [
    "df['experience_level']"
   ]
  },
  {
   "cell_type": "markdown",
   "id": "0a86acbd",
   "metadata": {},
   "source": [
    "#### Requirment of the company"
   ]
  },
  {
   "cell_type": "code",
   "execution_count": 226,
   "id": "1cd0a97b",
   "metadata": {},
   "outputs": [],
   "source": [
    "df = df.rename(columns={'Requirment of the company ': 'requirment_of_the_company'})"
   ]
  },
  {
   "cell_type": "code",
   "execution_count": 227,
   "id": "47cbb7e5",
   "metadata": {},
   "outputs": [],
   "source": [
    "df['requirment_of_the_company'] = df['requirment_of_the_company'].str.lower()"
   ]
  },
  {
   "cell_type": "code",
   "execution_count": 228,
   "id": "1685b8ea",
   "metadata": {},
   "outputs": [],
   "source": [
    "df['requirment_of_the_company'] = df['requirment_of_the_company'].str.replace(r',,','', regex=True)\n",
    "df['requirment_of_the_company'] = df['requirment_of_the_company'].str.replace(r'\\.\\.\\.', '', regex=True)"
   ]
  },
  {
   "cell_type": "code",
   "execution_count": 229,
   "id": "3d815497",
   "metadata": {},
   "outputs": [],
   "source": [
    "def translate_text(text):\n",
    "    target_lang = 'en'\n",
    "    translation = translate(text, to_language=target_lang)\n",
    "    return translation\n",
    "\n",
    "df['requirment_of_the_company'] = df['requirment_of_the_company'].astype(str)\n",
    "\n",
    "df['requirment_of_the_company'] = df['requirment_of_the_company'].apply(lambda x: translate_text(x) if langid.classify(x)[0] != 'en' else x)"
   ]
  },
  {
   "cell_type": "code",
   "execution_count": 230,
   "id": "8d759a8e",
   "metadata": {},
   "outputs": [
    {
     "data": {
      "text/plain": [
       "0       computer science,data quality,genetics,mathema...\n",
       "1                  agile,data management,finance,security\n",
       "2       agile,architecture,aws,computer science,comput...\n",
       "3            engineering,industrial,oracle,power bi,r,r&d\n",
       "4       aws,azure,computer science,consulting,dataflow...\n",
       "                              ...                        \n",
       "3193    apis,clustering,computer science,data visualiz...\n",
       "3194      aws,big data,computer science,gcp,snowflake,sql\n",
       "3195    e-commerce,engineering,linux,python,robotics,s...\n",
       "3196    computer science,data analytics,data mining,ec...\n",
       "3197    airflow,architecture,bigquery,ci/cd,computer s...\n",
       "Name: requirment_of_the_company, Length: 3197, dtype: object"
      ]
     },
     "execution_count": 230,
     "metadata": {},
     "output_type": "execute_result"
    }
   ],
   "source": [
    "df['requirment_of_the_company']"
   ]
  },
  {
   "cell_type": "markdown",
   "id": "2391d6f5",
   "metadata": {},
   "source": [
    "#### Facilities"
   ]
  },
  {
   "cell_type": "code",
   "execution_count": 231,
   "id": "c7efd826",
   "metadata": {},
   "outputs": [],
   "source": [
    "df['facilities'] = df['facilities'].str.lower()"
   ]
  },
  {
   "cell_type": "code",
   "execution_count": 232,
   "id": "9d1c4ac5",
   "metadata": {},
   "outputs": [],
   "source": [
    "df['facilities'] = df['facilities'].str.replace(r',,','', regex=True)\n",
    "df['facilities'] = df['facilities'].str.replace(r'\\.\\.\\.', '', regex=True)"
   ]
  },
  {
   "cell_type": "code",
   "execution_count": 233,
   "id": "316cbbfc",
   "metadata": {},
   "outputs": [],
   "source": [
    "def translate_text(text):\n",
    "    target_lang = 'en'\n",
    "    translation = translate(text, to_language=target_lang)\n",
    "    return translation\n",
    "\n",
    "df['facilities'] = df['facilities'].astype(str)\n",
    "\n",
    "# Translate non-English job titles to English\n",
    "df['facilities'] = df['facilities'].apply(lambda x: translate_text(x) if langid.classify(x)[0] != 'en' else x)"
   ]
  },
  {
   "cell_type": "code",
   "execution_count": 234,
   "id": "37247010",
   "metadata": {},
   "outputs": [],
   "source": [
    "df['facilities'] = df['facilities'].fillna('without facilities')\n",
    "df['facilities'] = df['facilities'].replace('', 'without facilities')"
   ]
  },
  {
   "cell_type": "code",
   "execution_count": 235,
   "id": "9ab403e6",
   "metadata": {},
   "outputs": [
    {
     "data": {
      "text/plain": [
       "0                                      without facilities\n",
       "1                                      without facilities\n",
       "2                                      career development\n",
       "3                                      without facilities\n",
       "4       flex hours,flex vacation,parental leave,unlimi...\n",
       "                              ...                        \n",
       "3193                                   career development\n",
       "3194                    equity,medical leave,salary bonus\n",
       "3195                                   without facilities\n",
       "3196              career development,startup environment,\n",
       "3197                                   without facilities\n",
       "Name: facilities, Length: 3197, dtype: object"
      ]
     },
     "execution_count": 235,
     "metadata": {},
     "output_type": "execute_result"
    }
   ],
   "source": [
    "df['facilities']"
   ]
  },
  {
   "cell_type": "markdown",
   "id": "432055ca",
   "metadata": {},
   "source": [
    "#### Salary"
   ]
  },
  {
   "cell_type": "code",
   "execution_count": 237,
   "id": "8fa2c48c",
   "metadata": {},
   "outputs": [],
   "source": [
    "df['salary'] = df['salary'].astype(str)\n",
    "\n",
    "def categorize_salary(salary_value):\n",
    "    if '+' in salary_value and '*' in salary_value:\n",
    "        return 'salaire minimum et sous-conditions'\n",
    "    elif '+' in salary_value:\n",
    "        return 'salaire minimum'\n",
    "    elif '*' in salary_value:\n",
    "        return 'salaire sous-conditions'\n",
    "    else:\n",
    "        return 'salaire fix'\n",
    "\n",
    "df['salary_category'] = df['salary'].apply(categorize_salary)"
   ]
  },
  {
   "cell_type": "code",
   "execution_count": 238,
   "id": "bcdcfc7f",
   "metadata": {},
   "outputs": [],
   "source": [
    "df['salary'] = df['salary'].str.replace(r'[+*]', '', regex=True)"
   ]
  },
  {
   "cell_type": "code",
   "execution_count": 241,
   "id": "56d0a51d",
   "metadata": {
    "scrolled": true
   },
   "outputs": [
    {
     "ename": "TypeError",
     "evalue": "argument of type 'float' is not iterable",
     "output_type": "error",
     "traceback": [
      "\u001b[1;31m---------------------------------------------------------------------------\u001b[0m",
      "\u001b[1;31mTypeError\u001b[0m                                 Traceback (most recent call last)",
      "Cell \u001b[1;32mIn[241], line 13\u001b[0m\n\u001b[0;32m      9\u001b[0m         salary_value \u001b[38;5;241m=\u001b[39m \u001b[38;5;28mfloat\u001b[39m(salary_value)\n\u001b[0;32m     11\u001b[0m     \u001b[38;5;28;01mreturn\u001b[39;00m salary_value\n\u001b[1;32m---> 13\u001b[0m df[\u001b[38;5;124m'\u001b[39m\u001b[38;5;124msalary\u001b[39m\u001b[38;5;124m'\u001b[39m] \u001b[38;5;241m=\u001b[39m \u001b[43mdf\u001b[49m\u001b[43m[\u001b[49m\u001b[38;5;124;43m'\u001b[39;49m\u001b[38;5;124;43msalary\u001b[39;49m\u001b[38;5;124;43m'\u001b[39;49m\u001b[43m]\u001b[49m\u001b[38;5;241;43m.\u001b[39;49m\u001b[43mapply\u001b[49m\u001b[43m(\u001b[49m\u001b[43mconvert_to_usd\u001b[49m\u001b[43m)\u001b[49m\n\u001b[0;32m     15\u001b[0m df[\u001b[38;5;124m'\u001b[39m\u001b[38;5;124msalary\u001b[39m\u001b[38;5;124m'\u001b[39m]\n",
      "File \u001b[1;32m~\\anaconda3\\lib\\site-packages\\pandas\\core\\series.py:4771\u001b[0m, in \u001b[0;36mSeries.apply\u001b[1;34m(self, func, convert_dtype, args, **kwargs)\u001b[0m\n\u001b[0;32m   4661\u001b[0m \u001b[38;5;28;01mdef\u001b[39;00m \u001b[38;5;21mapply\u001b[39m(\n\u001b[0;32m   4662\u001b[0m     \u001b[38;5;28mself\u001b[39m,\n\u001b[0;32m   4663\u001b[0m     func: AggFuncType,\n\u001b[1;32m   (...)\u001b[0m\n\u001b[0;32m   4666\u001b[0m     \u001b[38;5;241m*\u001b[39m\u001b[38;5;241m*\u001b[39mkwargs,\n\u001b[0;32m   4667\u001b[0m ) \u001b[38;5;241m-\u001b[39m\u001b[38;5;241m>\u001b[39m DataFrame \u001b[38;5;241m|\u001b[39m Series:\n\u001b[0;32m   4668\u001b[0m     \u001b[38;5;124;03m\"\"\"\u001b[39;00m\n\u001b[0;32m   4669\u001b[0m \u001b[38;5;124;03m    Invoke function on values of Series.\u001b[39;00m\n\u001b[0;32m   4670\u001b[0m \n\u001b[1;32m   (...)\u001b[0m\n\u001b[0;32m   4769\u001b[0m \u001b[38;5;124;03m    dtype: float64\u001b[39;00m\n\u001b[0;32m   4770\u001b[0m \u001b[38;5;124;03m    \"\"\"\u001b[39;00m\n\u001b[1;32m-> 4771\u001b[0m     \u001b[38;5;28;01mreturn\u001b[39;00m \u001b[43mSeriesApply\u001b[49m\u001b[43m(\u001b[49m\u001b[38;5;28;43mself\u001b[39;49m\u001b[43m,\u001b[49m\u001b[43m \u001b[49m\u001b[43mfunc\u001b[49m\u001b[43m,\u001b[49m\u001b[43m \u001b[49m\u001b[43mconvert_dtype\u001b[49m\u001b[43m,\u001b[49m\u001b[43m \u001b[49m\u001b[43margs\u001b[49m\u001b[43m,\u001b[49m\u001b[43m \u001b[49m\u001b[43mkwargs\u001b[49m\u001b[43m)\u001b[49m\u001b[38;5;241;43m.\u001b[39;49m\u001b[43mapply\u001b[49m\u001b[43m(\u001b[49m\u001b[43m)\u001b[49m\n",
      "File \u001b[1;32m~\\anaconda3\\lib\\site-packages\\pandas\\core\\apply.py:1123\u001b[0m, in \u001b[0;36mSeriesApply.apply\u001b[1;34m(self)\u001b[0m\n\u001b[0;32m   1120\u001b[0m     \u001b[38;5;28;01mreturn\u001b[39;00m \u001b[38;5;28mself\u001b[39m\u001b[38;5;241m.\u001b[39mapply_str()\n\u001b[0;32m   1122\u001b[0m \u001b[38;5;66;03m# self.f is Callable\u001b[39;00m\n\u001b[1;32m-> 1123\u001b[0m \u001b[38;5;28;01mreturn\u001b[39;00m \u001b[38;5;28;43mself\u001b[39;49m\u001b[38;5;241;43m.\u001b[39;49m\u001b[43mapply_standard\u001b[49m\u001b[43m(\u001b[49m\u001b[43m)\u001b[49m\n",
      "File \u001b[1;32m~\\anaconda3\\lib\\site-packages\\pandas\\core\\apply.py:1174\u001b[0m, in \u001b[0;36mSeriesApply.apply_standard\u001b[1;34m(self)\u001b[0m\n\u001b[0;32m   1172\u001b[0m     \u001b[38;5;28;01melse\u001b[39;00m:\n\u001b[0;32m   1173\u001b[0m         values \u001b[38;5;241m=\u001b[39m obj\u001b[38;5;241m.\u001b[39mastype(\u001b[38;5;28mobject\u001b[39m)\u001b[38;5;241m.\u001b[39m_values\n\u001b[1;32m-> 1174\u001b[0m         mapped \u001b[38;5;241m=\u001b[39m \u001b[43mlib\u001b[49m\u001b[38;5;241;43m.\u001b[39;49m\u001b[43mmap_infer\u001b[49m\u001b[43m(\u001b[49m\n\u001b[0;32m   1175\u001b[0m \u001b[43m            \u001b[49m\u001b[43mvalues\u001b[49m\u001b[43m,\u001b[49m\n\u001b[0;32m   1176\u001b[0m \u001b[43m            \u001b[49m\u001b[43mf\u001b[49m\u001b[43m,\u001b[49m\n\u001b[0;32m   1177\u001b[0m \u001b[43m            \u001b[49m\u001b[43mconvert\u001b[49m\u001b[38;5;241;43m=\u001b[39;49m\u001b[38;5;28;43mself\u001b[39;49m\u001b[38;5;241;43m.\u001b[39;49m\u001b[43mconvert_dtype\u001b[49m\u001b[43m,\u001b[49m\n\u001b[0;32m   1178\u001b[0m \u001b[43m        \u001b[49m\u001b[43m)\u001b[49m\n\u001b[0;32m   1180\u001b[0m \u001b[38;5;28;01mif\u001b[39;00m \u001b[38;5;28mlen\u001b[39m(mapped) \u001b[38;5;129;01mand\u001b[39;00m \u001b[38;5;28misinstance\u001b[39m(mapped[\u001b[38;5;241m0\u001b[39m], ABCSeries):\n\u001b[0;32m   1181\u001b[0m     \u001b[38;5;66;03m# GH#43986 Need to do list(mapped) in order to get treated as nested\u001b[39;00m\n\u001b[0;32m   1182\u001b[0m     \u001b[38;5;66;03m#  See also GH#25959 regarding EA support\u001b[39;00m\n\u001b[0;32m   1183\u001b[0m     \u001b[38;5;28;01mreturn\u001b[39;00m obj\u001b[38;5;241m.\u001b[39m_constructor_expanddim(\u001b[38;5;28mlist\u001b[39m(mapped), index\u001b[38;5;241m=\u001b[39mobj\u001b[38;5;241m.\u001b[39mindex)\n",
      "File \u001b[1;32m~\\anaconda3\\lib\\site-packages\\pandas\\_libs\\lib.pyx:2924\u001b[0m, in \u001b[0;36mpandas._libs.lib.map_infer\u001b[1;34m()\u001b[0m\n",
      "Cell \u001b[1;32mIn[241], line 2\u001b[0m, in \u001b[0;36mconvert_to_usd\u001b[1;34m(salary_value)\u001b[0m\n\u001b[0;32m      1\u001b[0m \u001b[38;5;28;01mdef\u001b[39;00m \u001b[38;5;21mconvert_to_usd\u001b[39m(salary_value):\n\u001b[1;32m----> 2\u001b[0m     \u001b[38;5;28;01mif\u001b[39;00m \u001b[38;5;124;43m'\u001b[39;49m\u001b[38;5;124;43mGBP\u001b[39;49m\u001b[38;5;124;43m'\u001b[39;49m\u001b[43m \u001b[49m\u001b[38;5;129;43;01min\u001b[39;49;00m\u001b[43m \u001b[49m\u001b[43msalary_value\u001b[49m:\n\u001b[0;32m      3\u001b[0m         salary_value \u001b[38;5;241m=\u001b[39m \u001b[38;5;28mfloat\u001b[39m(salary_value\u001b[38;5;241m.\u001b[39mreplace(\u001b[38;5;124m'\u001b[39m\u001b[38;5;124mGBP\u001b[39m\u001b[38;5;124m'\u001b[39m, \u001b[38;5;124m'\u001b[39m\u001b[38;5;124m'\u001b[39m)\u001b[38;5;241m.\u001b[39mreplace(\u001b[38;5;124m'\u001b[39m\u001b[38;5;124mK\u001b[39m\u001b[38;5;124m'\u001b[39m, \u001b[38;5;124m'\u001b[39m\u001b[38;5;124m'\u001b[39m)) \u001b[38;5;241m*\u001b[39m \u001b[38;5;241m1.37\u001b[39m \u001b[38;5;241m*\u001b[39m \u001b[38;5;241m1000\u001b[39m\n\u001b[0;32m      4\u001b[0m     \u001b[38;5;28;01melif\u001b[39;00m \u001b[38;5;124m'\u001b[39m\u001b[38;5;124mEUR\u001b[39m\u001b[38;5;124m'\u001b[39m \u001b[38;5;129;01min\u001b[39;00m salary_value:\n",
      "\u001b[1;31mTypeError\u001b[0m: argument of type 'float' is not iterable"
     ]
    }
   ],
   "source": [
    "def convert_to_usd(salary_value):\n",
    "    if 'GBP' in salary_value:\n",
    "        salary_value = float(salary_value.replace('GBP', '').replace('K', '')) * 1.37 * 1000\n",
    "    elif 'EUR' in salary_value:\n",
    "        salary_value = float(salary_value.replace('EUR', '').replace('K', '')) * 1.18 * 1000\n",
    "    elif 'K' in salary_value:\n",
    "        salary_value = float(salary_value.replace('K', '')) * 1000\n",
    "    else:\n",
    "        salary_value = float(salary_value)\n",
    "    \n",
    "    return salary_value\n",
    "\n",
    "df['salary'] = df['salary'].apply(convert_to_usd)\n",
    "\n",
    "df['salary']"
   ]
  },
  {
   "cell_type": "code",
   "execution_count": 242,
   "id": "752a8d56",
   "metadata": {},
   "outputs": [
    {
     "data": {
      "text/plain": [
       "203"
      ]
     },
     "execution_count": 242,
     "metadata": {},
     "output_type": "execute_result"
    }
   ],
   "source": [
    "duplicates_count = df.duplicated().sum()\n",
    "duplicates_count"
   ]
  },
  {
   "cell_type": "code",
   "execution_count": 243,
   "id": "5bfa67bd",
   "metadata": {},
   "outputs": [
    {
     "data": {
      "text/plain": [
       "(2994, 11)"
      ]
     },
     "execution_count": 243,
     "metadata": {},
     "output_type": "execute_result"
    }
   ],
   "source": [
    "df = df.drop_duplicates()\n",
    "df.shape"
   ]
  },
  {
   "cell_type": "code",
   "execution_count": 244,
   "id": "534f9cc1",
   "metadata": {},
   "outputs": [
    {
     "name": "stdout",
     "output_type": "stream",
     "text": [
      "job_title_extracted           job_type   experience_level\n",
      "Other                         full time  entry-level         36600.0\n",
      "                                         executive-level     78800.0\n",
      "                                         mid-level           54500.0\n",
      "                                         senior-level        59437.5\n",
      "ai consultant                 full time  entry-level         39000.0\n",
      "                                                              ...   \n",
      "robotics engineer             full time  entry-level         39500.0\n",
      "                                         executive-level     81000.0\n",
      "                                         senior-level        81000.0\n",
      "software engineering manager  full time  senior-level        69000.0\n",
      "technology specialized roles  full time  senior-level        62000.0\n",
      "Name: salary, Length: 109, dtype: float64\n"
     ]
    }
   ],
   "source": [
    "df_filtered = df.dropna(subset=['salary'])\n",
    "mean_salary_by_profile = df_filtered.groupby(['job_title_extracted', 'job_type', 'experience_level'])['salary'].mean()\n",
    "\n",
    "print(mean_salary_by_profile.round(2))"
   ]
  },
  {
   "cell_type": "code",
   "execution_count": 245,
   "id": "2a7811b7",
   "metadata": {},
   "outputs": [
    {
     "name": "stderr",
     "output_type": "stream",
     "text": [
      "C:\\Users\\Youcode\\AppData\\Local\\Temp\\ipykernel_14032\\2248120778.py:9: SettingWithCopyWarning:\n",
      "\n",
      "\n",
      "A value is trying to be set on a copy of a slice from a DataFrame.\n",
      "Try using .loc[row_indexer,col_indexer] = value instead\n",
      "\n",
      "See the caveats in the documentation: https://pandas.pydata.org/pandas-docs/stable/user_guide/indexing.html#returning-a-view-versus-a-copy\n",
      "\n",
      "C:\\Users\\Youcode\\AppData\\Local\\Temp\\ipykernel_14032\\2248120778.py:10: SettingWithCopyWarning:\n",
      "\n",
      "\n",
      "A value is trying to be set on a copy of a slice from a DataFrame.\n",
      "Try using .loc[row_indexer,col_indexer] = value instead\n",
      "\n",
      "See the caveats in the documentation: https://pandas.pydata.org/pandas-docs/stable/user_guide/indexing.html#returning-a-view-versus-a-copy\n",
      "\n"
     ]
    }
   ],
   "source": [
    "def replace_nan_salary(row):\n",
    "    if np.isnan(row['salary']):\n",
    "        try:\n",
    "            return mean_salary_by_profile.loc[row['job_title_extracted'], row['job_type'], row['experience_level']]\n",
    "        except KeyError:\n",
    "            return np.nan\n",
    "    return row['salary']\n",
    "\n",
    "df['salary'] = df.apply(replace_nan_salary, axis=1)\n",
    "df['salary'] = df['salary'].round(2)"
   ]
  },
  {
   "cell_type": "code",
   "execution_count": 246,
   "id": "6109ffa6",
   "metadata": {},
   "outputs": [
    {
     "name": "stderr",
     "output_type": "stream",
     "text": [
      "C:\\Users\\Youcode\\AppData\\Local\\Temp\\ipykernel_14032\\4013793640.py:15: SettingWithCopyWarning:\n",
      "\n",
      "\n",
      "A value is trying to be set on a copy of a slice from a DataFrame.\n",
      "Try using .loc[row_indexer,col_indexer] = value instead\n",
      "\n",
      "See the caveats in the documentation: https://pandas.pydata.org/pandas-docs/stable/user_guide/indexing.html#returning-a-view-versus-a-copy\n",
      "\n",
      "C:\\Users\\Youcode\\AppData\\Local\\Temp\\ipykernel_14032\\4013793640.py:16: SettingWithCopyWarning:\n",
      "\n",
      "\n",
      "A value is trying to be set on a copy of a slice from a DataFrame.\n",
      "Try using .loc[row_indexer,col_indexer] = value instead\n",
      "\n",
      "See the caveats in the documentation: https://pandas.pydata.org/pandas-docs/stable/user_guide/indexing.html#returning-a-view-versus-a-copy\n",
      "\n"
     ]
    }
   ],
   "source": [
    "mean_salary_by_experience = df_filtered.groupby(['job_title_extracted', 'experience_level'])['salary'].mean()\n",
    "\n",
    "def infer_experience_level(row):\n",
    "    if pd.isnull(row['experience_level']):\n",
    "        job_Extracted = row['job_title_extracted']\n",
    "        salary = row['salary']\n",
    "        if job_Extracted in mean_salary_by_experience.index.get_level_values(0):\n",
    "            available_experience_levels = mean_salary_by_experience.loc[job_Extracted].index\n",
    "            salary_diff = abs(mean_salary_by_experience.loc[job_Extracted] - salary)\n",
    "            inferred_experience_level = salary_diff.idxmin()\n",
    "            if inferred_experience_level in available_experience_levels:\n",
    "                return inferred_experience_level\n",
    "    return row['experience_level']\n",
    "\n",
    "df['experience_level'] = df.apply(infer_experience_level, axis=1)\n",
    "df['salary'] = df['salary'].round(2)"
   ]
  },
  {
   "cell_type": "code",
   "execution_count": 247,
   "id": "a9cabae8",
   "metadata": {},
   "outputs": [
    {
     "data": {
      "text/plain": [
       "company                       0\n",
       "job_title                     0\n",
       "location                      0\n",
       "job_type                      0\n",
       "experience_level              5\n",
       "salary                       77\n",
       "requirment_of_the_company     0\n",
       "facilities                    0\n",
       "job_title_extracted           0\n",
       "country                       0\n",
       "salary_category               0\n",
       "dtype: int64"
      ]
     },
     "execution_count": 247,
     "metadata": {},
     "output_type": "execute_result"
    }
   ],
   "source": [
    "df.isnull().sum()"
   ]
  },
  {
   "cell_type": "code",
   "execution_count": 248,
   "id": "3ffec8a4",
   "metadata": {},
   "outputs": [],
   "source": [
    "df = df.dropna()"
   ]
  },
  {
   "cell_type": "code",
   "execution_count": 250,
   "id": "a4af9f16",
   "metadata": {},
   "outputs": [
    {
     "data": {
      "text/plain": [
       "185     236000.0\n",
       "441     224000.0\n",
       "596     283000.0\n",
       "665     283000.0\n",
       "668     204000.0\n",
       "688     295000.0\n",
       "720     283000.0\n",
       "732     283000.0\n",
       "736     267000.0\n",
       "744     283000.0\n",
       "785     295000.0\n",
       "789     310000.0\n",
       "841     207000.0\n",
       "868     315000.0\n",
       "904     267000.0\n",
       "934     245000.0\n",
       "944     224000.0\n",
       "1022    214000.0\n",
       "1389    218000.0\n",
       "1400    230000.0\n",
       "1460    225000.0\n",
       "1486    253000.0\n",
       "1513    235000.0\n",
       "1554    227000.0\n",
       "1683    234000.0\n",
       "1724    245000.0\n",
       "1807    245000.0\n",
       "2196    235000.0\n",
       "2518    205000.0\n",
       "2731    205000.0\n",
       "2863    220000.0\n",
       "3030    204000.0\n",
       "Name: salary, dtype: float64"
      ]
     },
     "execution_count": 250,
     "metadata": {},
     "output_type": "execute_result"
    }
   ],
   "source": [
    "filtered_df = df['salary']\n",
    "\n",
    "q1 = filtered_df.quantile(0.25)\n",
    "q3 = filtered_df.quantile(0.75)\n",
    "\n",
    "iqr = q3 - q1\n",
    "\n",
    "lower_bound = q1 - 1.5 * iqr\n",
    "\n",
    "upper_bound = q3 + 1.5 * iqr\n",
    "\n",
    "outliers = filtered_df[\n",
    "    (filtered_df < lower_bound) | (filtered_df > upper_bound)\n",
    "]\n",
    "\n",
    "outliers"
   ]
  },
  {
   "cell_type": "code",
   "execution_count": 251,
   "id": "43d1a025",
   "metadata": {},
   "outputs": [
    {
     "data": {
      "text/plain": [
       "32"
      ]
     },
     "execution_count": 251,
     "metadata": {},
     "output_type": "execute_result"
    }
   ],
   "source": [
    "outliers.count()"
   ]
  },
  {
   "cell_type": "code",
   "execution_count": 252,
   "id": "a1c5d075",
   "metadata": {},
   "outputs": [],
   "source": [
    "df = df.drop(outliers.index)"
   ]
  },
  {
   "cell_type": "code",
   "execution_count": 254,
   "id": "c065bd50",
   "metadata": {},
   "outputs": [],
   "source": [
    "# Creating the 'Remote', 'Hybrid', and 'Local' columns\n",
    "df['remote'] = df['location'].apply(lambda x: 'remote' in x)\n",
    "df['hybrid'] = df['location'].apply(lambda x: 'hybrid' in x)\n",
    "df['local'] = df['location'].apply(lambda x: 'remote' not in x and 'hybrid' not in x)"
   ]
  },
  {
   "cell_type": "code",
   "execution_count": 260,
   "id": "4e93390a",
   "metadata": {},
   "outputs": [
    {
     "data": {
      "text/html": [
       "<div>\n",
       "<style scoped>\n",
       "    .dataframe tbody tr th:only-of-type {\n",
       "        vertical-align: middle;\n",
       "    }\n",
       "\n",
       "    .dataframe tbody tr th {\n",
       "        vertical-align: top;\n",
       "    }\n",
       "\n",
       "    .dataframe thead th {\n",
       "        text-align: right;\n",
       "    }\n",
       "</style>\n",
       "<table border=\"1\" class=\"dataframe\">\n",
       "  <thead>\n",
       "    <tr style=\"text-align: right;\">\n",
       "      <th></th>\n",
       "      <th>company</th>\n",
       "      <th>job_title</th>\n",
       "      <th>location</th>\n",
       "      <th>job_type</th>\n",
       "      <th>experience_level</th>\n",
       "      <th>salary</th>\n",
       "      <th>requirment_of_the_company</th>\n",
       "      <th>facilities</th>\n",
       "      <th>job_title_extracted</th>\n",
       "      <th>country</th>\n",
       "      <th>salary_category</th>\n",
       "      <th>remote</th>\n",
       "      <th>hybrid</th>\n",
       "      <th>local</th>\n",
       "      <th>category</th>\n",
       "    </tr>\n",
       "  </thead>\n",
       "  <tbody>\n",
       "    <tr>\n",
       "      <th>0</th>\n",
       "      <td>sgs</td>\n",
       "      <td>clinical data analyst</td>\n",
       "      <td>richardson, tx, united states</td>\n",
       "      <td>full time</td>\n",
       "      <td>entry-level</td>\n",
       "      <td>48000.0</td>\n",
       "      <td>computer science,data quality,genetics,mathema...</td>\n",
       "      <td>without facilities</td>\n",
       "      <td>data analyst</td>\n",
       "      <td>United States</td>\n",
       "      <td>salaire minimum et sous-conditions</td>\n",
       "      <td>False</td>\n",
       "      <td>False</td>\n",
       "      <td>True</td>\n",
       "      <td>Data Science</td>\n",
       "    </tr>\n",
       "    <tr>\n",
       "      <th>1</th>\n",
       "      <td>ocorian</td>\n",
       "      <td>aml/cft &amp; data analyst</td>\n",
       "      <td>ebène, mauritius</td>\n",
       "      <td>full time</td>\n",
       "      <td>entry-level</td>\n",
       "      <td>48000.0</td>\n",
       "      <td>agile,data management,finance,security</td>\n",
       "      <td>without facilities</td>\n",
       "      <td>data analyst</td>\n",
       "      <td>Mauritius / Maurice</td>\n",
       "      <td>salaire minimum et sous-conditions</td>\n",
       "      <td>False</td>\n",
       "      <td>False</td>\n",
       "      <td>True</td>\n",
       "      <td>Data Science</td>\n",
       "    </tr>\n",
       "    <tr>\n",
       "      <th>2</th>\n",
       "      <td>cricut</td>\n",
       "      <td>machine learning engineer</td>\n",
       "      <td>south jordan, ut, united states</td>\n",
       "      <td>full time</td>\n",
       "      <td>mid-level</td>\n",
       "      <td>90000.0</td>\n",
       "      <td>agile,architecture,aws,computer science,comput...</td>\n",
       "      <td>career development</td>\n",
       "      <td>machine learning engineer</td>\n",
       "      <td>United States</td>\n",
       "      <td>salaire minimum et sous-conditions</td>\n",
       "      <td>False</td>\n",
       "      <td>False</td>\n",
       "      <td>True</td>\n",
       "      <td>Other</td>\n",
       "    </tr>\n",
       "    <tr>\n",
       "      <th>3</th>\n",
       "      <td>bosch group</td>\n",
       "      <td>application developer &amp; data analyst</td>\n",
       "      <td>nonantola, italy</td>\n",
       "      <td>full time</td>\n",
       "      <td>entry-level</td>\n",
       "      <td>48000.0</td>\n",
       "      <td>engineering,industrial,oracle,power bi,r,r&amp;d</td>\n",
       "      <td>without facilities</td>\n",
       "      <td>data analyst</td>\n",
       "      <td>Italia</td>\n",
       "      <td>salaire minimum et sous-conditions</td>\n",
       "      <td>False</td>\n",
       "      <td>False</td>\n",
       "      <td>True</td>\n",
       "      <td>Data Science</td>\n",
       "    </tr>\n",
       "    <tr>\n",
       "      <th>4</th>\n",
       "      <td>publicis groupe</td>\n",
       "      <td>data engineer full time (public sector) usa</td>\n",
       "      <td>arlington, va, united states</td>\n",
       "      <td>full time</td>\n",
       "      <td>mid-level</td>\n",
       "      <td>108000.0</td>\n",
       "      <td>aws,azure,computer science,consulting,dataflow...</td>\n",
       "      <td>flex hours,flex vacation,parental leave,unlimi...</td>\n",
       "      <td>data engineer</td>\n",
       "      <td>United States</td>\n",
       "      <td>salaire minimum</td>\n",
       "      <td>False</td>\n",
       "      <td>False</td>\n",
       "      <td>True</td>\n",
       "      <td>Big Data</td>\n",
       "    </tr>\n",
       "    <tr>\n",
       "      <th>...</th>\n",
       "      <td>...</td>\n",
       "      <td>...</td>\n",
       "      <td>...</td>\n",
       "      <td>...</td>\n",
       "      <td>...</td>\n",
       "      <td>...</td>\n",
       "      <td>...</td>\n",
       "      <td>...</td>\n",
       "      <td>...</td>\n",
       "      <td>...</td>\n",
       "      <td>...</td>\n",
       "      <td>...</td>\n",
       "      <td>...</td>\n",
       "      <td>...</td>\n",
       "      <td>...</td>\n",
       "    </tr>\n",
       "    <tr>\n",
       "      <th>3190</th>\n",
       "      <td>ccri</td>\n",
       "      <td>application integration engineer, computer vis...</td>\n",
       "      <td>chantilly, virginia, united states</td>\n",
       "      <td>full time</td>\n",
       "      <td>mid-level</td>\n",
       "      <td>113000.0</td>\n",
       "      <td>agile,angular,apis,architecture,aws,azure</td>\n",
       "      <td>401(k) matching,career development,flex hours,...</td>\n",
       "      <td>data engineer</td>\n",
       "      <td>United States</td>\n",
       "      <td>salaire minimum</td>\n",
       "      <td>False</td>\n",
       "      <td>False</td>\n",
       "      <td>True</td>\n",
       "      <td>Big Data</td>\n",
       "    </tr>\n",
       "    <tr>\n",
       "      <th>3191</th>\n",
       "      <td>publicis groupe</td>\n",
       "      <td>associate director, data science</td>\n",
       "      <td>new york city, united states</td>\n",
       "      <td>full time</td>\n",
       "      <td>mid-level</td>\n",
       "      <td>106000.0</td>\n",
       "      <td>bayesian,classification,clustering,data analys...</td>\n",
       "      <td>career development,health care,</td>\n",
       "      <td>data scientist</td>\n",
       "      <td>United States</td>\n",
       "      <td>salaire minimum</td>\n",
       "      <td>False</td>\n",
       "      <td>False</td>\n",
       "      <td>True</td>\n",
       "      <td>Data Science</td>\n",
       "    </tr>\n",
       "    <tr>\n",
       "      <th>3192</th>\n",
       "      <td>doordash</td>\n",
       "      <td>senior software engineer, machine learning - a...</td>\n",
       "      <td>sunnyvale, ca; san francisco, ca; new york</td>\n",
       "      <td>full time</td>\n",
       "      <td>senior-level</td>\n",
       "      <td>176000.0</td>\n",
       "      <td>computer science,data analysis,engineering,exc...</td>\n",
       "      <td>401(k) matching,career development,equity,insu...</td>\n",
       "      <td>data engineer</td>\n",
       "      <td>United States</td>\n",
       "      <td>salaire minimum</td>\n",
       "      <td>False</td>\n",
       "      <td>False</td>\n",
       "      <td>True</td>\n",
       "      <td>Big Data</td>\n",
       "    </tr>\n",
       "    <tr>\n",
       "      <th>3193</th>\n",
       "      <td>western digital</td>\n",
       "      <td>data scientist - new college graduate</td>\n",
       "      <td>biñan, philippines</td>\n",
       "      <td>full time</td>\n",
       "      <td>entry-level</td>\n",
       "      <td>39000.0</td>\n",
       "      <td>apis,clustering,computer science,data visualiz...</td>\n",
       "      <td>career development</td>\n",
       "      <td>data scientist</td>\n",
       "      <td>Philippines</td>\n",
       "      <td>salaire minimum et sous-conditions</td>\n",
       "      <td>False</td>\n",
       "      <td>False</td>\n",
       "      <td>True</td>\n",
       "      <td>Data Science</td>\n",
       "    </tr>\n",
       "    <tr>\n",
       "      <th>3196</th>\n",
       "      <td>atb financial</td>\n",
       "      <td>data scientist</td>\n",
       "      <td>edmonton, alberta, canada</td>\n",
       "      <td>full time</td>\n",
       "      <td>entry-level</td>\n",
       "      <td>39000.0</td>\n",
       "      <td>computer science,data analytics,data mining,ec...</td>\n",
       "      <td>career development,startup environment,</td>\n",
       "      <td>data scientist</td>\n",
       "      <td>Canada</td>\n",
       "      <td>salaire minimum et sous-conditions</td>\n",
       "      <td>False</td>\n",
       "      <td>False</td>\n",
       "      <td>True</td>\n",
       "      <td>Data Science</td>\n",
       "    </tr>\n",
       "  </tbody>\n",
       "</table>\n",
       "<p>2883 rows × 15 columns</p>\n",
       "</div>"
      ],
      "text/plain": [
       "              company                                          job_title  \\\n",
       "0                 sgs                              clinical data analyst   \n",
       "1             ocorian                             aml/cft & data analyst   \n",
       "2              cricut                          machine learning engineer   \n",
       "3         bosch group               application developer & data analyst   \n",
       "4     publicis groupe        data engineer full time (public sector) usa   \n",
       "...               ...                                                ...   \n",
       "3190             ccri  application integration engineer, computer vis...   \n",
       "3191  publicis groupe                   associate director, data science   \n",
       "3192         doordash  senior software engineer, machine learning - a...   \n",
       "3193  western digital              data scientist - new college graduate   \n",
       "3196    atb financial                                     data scientist   \n",
       "\n",
       "                                        location   job_type experience_level  \\\n",
       "0                  richardson, tx, united states  full time      entry-level   \n",
       "1                               ebène, mauritius  full time      entry-level   \n",
       "2                south jordan, ut, united states  full time        mid-level   \n",
       "3                               nonantola, italy  full time      entry-level   \n",
       "4                   arlington, va, united states  full time        mid-level   \n",
       "...                                          ...        ...              ...   \n",
       "3190          chantilly, virginia, united states  full time        mid-level   \n",
       "3191                new york city, united states  full time        mid-level   \n",
       "3192  sunnyvale, ca; san francisco, ca; new york  full time     senior-level   \n",
       "3193                          biñan, philippines  full time      entry-level   \n",
       "3196                   edmonton, alberta, canada  full time      entry-level   \n",
       "\n",
       "        salary                          requirment_of_the_company  \\\n",
       "0      48000.0  computer science,data quality,genetics,mathema...   \n",
       "1      48000.0             agile,data management,finance,security   \n",
       "2      90000.0  agile,architecture,aws,computer science,comput...   \n",
       "3      48000.0       engineering,industrial,oracle,power bi,r,r&d   \n",
       "4     108000.0  aws,azure,computer science,consulting,dataflow...   \n",
       "...        ...                                                ...   \n",
       "3190  113000.0          agile,angular,apis,architecture,aws,azure   \n",
       "3191  106000.0  bayesian,classification,clustering,data analys...   \n",
       "3192  176000.0  computer science,data analysis,engineering,exc...   \n",
       "3193   39000.0  apis,clustering,computer science,data visualiz...   \n",
       "3196   39000.0  computer science,data analytics,data mining,ec...   \n",
       "\n",
       "                                             facilities  \\\n",
       "0                                    without facilities   \n",
       "1                                    without facilities   \n",
       "2                                    career development   \n",
       "3                                    without facilities   \n",
       "4     flex hours,flex vacation,parental leave,unlimi...   \n",
       "...                                                 ...   \n",
       "3190  401(k) matching,career development,flex hours,...   \n",
       "3191                    career development,health care,   \n",
       "3192  401(k) matching,career development,equity,insu...   \n",
       "3193                                 career development   \n",
       "3196            career development,startup environment,   \n",
       "\n",
       "            job_title_extracted              country  \\\n",
       "0                  data analyst        United States   \n",
       "1                  data analyst  Mauritius / Maurice   \n",
       "2     machine learning engineer        United States   \n",
       "3                  data analyst               Italia   \n",
       "4                 data engineer        United States   \n",
       "...                         ...                  ...   \n",
       "3190              data engineer        United States   \n",
       "3191             data scientist        United States   \n",
       "3192              data engineer        United States   \n",
       "3193             data scientist          Philippines   \n",
       "3196             data scientist               Canada   \n",
       "\n",
       "                         salary_category  remote  hybrid  local      category  \n",
       "0     salaire minimum et sous-conditions   False   False   True  Data Science  \n",
       "1     salaire minimum et sous-conditions   False   False   True  Data Science  \n",
       "2     salaire minimum et sous-conditions   False   False   True         Other  \n",
       "3     salaire minimum et sous-conditions   False   False   True  Data Science  \n",
       "4                        salaire minimum   False   False   True      Big Data  \n",
       "...                                  ...     ...     ...    ...           ...  \n",
       "3190                     salaire minimum   False   False   True      Big Data  \n",
       "3191                     salaire minimum   False   False   True  Data Science  \n",
       "3192                     salaire minimum   False   False   True      Big Data  \n",
       "3193  salaire minimum et sous-conditions   False   False   True  Data Science  \n",
       "3196  salaire minimum et sous-conditions   False   False   True  Data Science  \n",
       "\n",
       "[2883 rows x 15 columns]"
      ]
     },
     "execution_count": 260,
     "metadata": {},
     "output_type": "execute_result"
    }
   ],
   "source": [
    "df"
   ]
  },
  {
   "cell_type": "code",
   "execution_count": 261,
   "id": "a7098825",
   "metadata": {},
   "outputs": [
    {
     "data": {
      "text/plain": [
       "0       Data Science\n",
       "1       Data Science\n",
       "2              Other\n",
       "3       Data Science\n",
       "4           Big Data\n",
       "            ...     \n",
       "3190        Big Data\n",
       "3191    Data Science\n",
       "3192        Big Data\n",
       "3193    Data Science\n",
       "3196    Data Science\n",
       "Name: category, Length: 2883, dtype: object"
      ]
     },
     "execution_count": 261,
     "metadata": {},
     "output_type": "execute_result"
    }
   ],
   "source": [
    "category_mapping = {\n",
    "    \"AI\": [\"robotic scientist\", \"ai product manager\", \"ai consultant\", \"robotics engineer\", \"nlp engineer\", \"research assistant\", \"deep learning engineer\", \"artificial intelligence (ai) engineer\"],\n",
    "    \"Data Science\": [\"data scientist\", \"data analyst\", \"machine learning scientist\", \"business intelligence analyst\", \"data security analyst\", \"data modeler\", \"data quality analyst\", \"data visualization specialist\", \"data governance analyst\", \"data insights analyst\", \"data privacy officer\", \"data strategy consultant\", \"data science manager\"],\n",
    "    \"Big Data\": [\"data engineer\", \"data architect\", \"big data engineer\", \"data warehouse specialist\", \"data operations manager\", \"data product manager\", \"data integration specialist\", \"data mining specialist\", \"data analytics manager\", \"data migration specialist\", \"data governance manager\"]\n",
    "}\n",
    "\n",
    "# Function to map job titles to categories\n",
    "def categorize_job_title(job_title):\n",
    "    for category, titles in category_mapping.items():\n",
    "        if job_title.lower() in titles:\n",
    "            return category\n",
    "    return \"Other\"  # Assign \"Other\" category for titles not matching any of the defined categories\n",
    "\n",
    "# Create the 'Category' column based on the 'Job Title Extracted'\n",
    "df['category'] = df['job_title_extracted'].apply(categorize_job_title)\n",
    "\n",
    "df['category']"
   ]
  },
  {
   "cell_type": "code",
   "execution_count": 257,
   "id": "a4fad2f7",
   "metadata": {},
   "outputs": [
    {
     "data": {
      "text/plain": [
       "(2883, 15)"
      ]
     },
     "execution_count": 257,
     "metadata": {},
     "output_type": "execute_result"
    }
   ],
   "source": [
    "df.shape"
   ]
  }
 ],
 "metadata": {
  "kernelspec": {
   "display_name": "Python 3 (ipykernel)",
   "language": "python",
   "name": "python3"
  },
  "language_info": {
   "codemirror_mode": {
    "name": "ipython",
    "version": 3
   },
   "file_extension": ".py",
   "mimetype": "text/x-python",
   "name": "python",
   "nbconvert_exporter": "python",
   "pygments_lexer": "ipython3",
   "version": "3.10.9"
  }
 },
 "nbformat": 4,
 "nbformat_minor": 5
}
